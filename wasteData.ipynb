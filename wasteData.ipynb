{
 "cells": [
  {
   "cell_type": "code",
   "execution_count": 1,
   "id": "e0fcf408",
   "metadata": {},
   "outputs": [
    {
     "name": "stdout",
     "output_type": "stream",
     "text": [
      "✅ waste_data.csv generated successfully with realistic patterns.\n"
     ]
    }
   ],
   "source": [
    "import pandas as pd\n",
    "import numpy as np\n",
    "import random\n",
    "from datetime import datetime\n",
    "\n",
    "# Parameters\n",
    "regions = [\"North\", \"South\", \"East\", \"West\", \"Central\"]\n",
    "facilities = [\"Plant A\", \"Plant B\", \"Plant C\", \"Plant D\"]\n",
    "waste_types = [\"Organic\", \"Plastic\", \"Metal\", \"Glass\"]\n",
    "date_range = pd.date_range(\"2020-01-01\", \"2024-12-01\", freq='MS')\n",
    "\n",
    "# Generate data\n",
    "data = []\n",
    "for date in date_range:\n",
    "    for region in regions:\n",
    "        facility = random.choice(facilities)\n",
    "        organic = np.random.randint(100, 300)\n",
    "        plastic = np.random.randint(50, 200)\n",
    "        metal = np.random.randint(20, 100)\n",
    "        glass = np.random.randint(30, 120)\n",
    "        total_waste = organic + plastic + metal + glass\n",
    "        recycled_waste = int(total_waste * np.random.uniform(0.3, 0.7))\n",
    "        efficiency = round(np.random.uniform(0.6, 0.95), 2)\n",
    "        data.append({\n",
    "            \"Date\": date.strftime(\"%Y-%m-%d\"),\n",
    "            \"Region\": region,\n",
    "            \"Facility\": facility,\n",
    "            \"Organic\": organic,\n",
    "            \"Plastic\": plastic,\n",
    "            \"Metal\": metal,\n",
    "            \"Glass\": glass,\n",
    "            \"Total_Waste\": total_waste,\n",
    "            \"Recycled_Waste\": recycled_waste,\n",
    "            \"Efficiency\": efficiency\n",
    "        })\n",
    "\n",
    "# Create DataFrame and save\n",
    "waste_df = pd.DataFrame(data)\n",
    "waste_df.to_csv(\"waste_data.csv\", index=False)\n",
    "print(\"✅ waste_data.csv generated successfully with realistic patterns.\")\n"
   ]
  }
 ],
 "metadata": {
  "kernelspec": {
   "display_name": "Python 3",
   "language": "python",
   "name": "python3"
  },
  "language_info": {
   "codemirror_mode": {
    "name": "ipython",
    "version": 3
   },
   "file_extension": ".py",
   "mimetype": "text/x-python",
   "name": "python",
   "nbconvert_exporter": "python",
   "pygments_lexer": "ipython3",
   "version": "3.11.2"
  }
 },
 "nbformat": 4,
 "nbformat_minor": 5
}
